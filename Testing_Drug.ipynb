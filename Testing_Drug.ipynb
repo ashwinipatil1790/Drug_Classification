{
 "cells": [
  {
   "cell_type": "code",
   "execution_count": 30,
   "id": "93e81b37-f586-47be-9386-a3a8ba3ae06f",
   "metadata": {},
   "outputs": [],
   "source": [
    "import numpy as np\n",
    "import pickle\n",
    "import json\n",
    "import warnings\n",
    "warnings.filterwarnings('ignore')"
   ]
  },
  {
   "cell_type": "markdown",
   "id": "9aa8247d-954e-4d94-986d-7c79de33ccd0",
   "metadata": {},
   "source": [
    "## Load Model"
   ]
  },
  {
   "cell_type": "code",
   "execution_count": 31,
   "id": "c5d18c7d-4b8d-4403-b55c-ea237976d16e",
   "metadata": {},
   "outputs": [],
   "source": [
    "with open('Logistic_Reg_Drug.pkl','rb') as f:\n",
    "    model = pickle.load(f)\n",
    "\n",
    "with open(\"column_data.json\", 'r') as f:\n",
    "    col_data = json.load(f)"
   ]
  },
  {
   "cell_type": "code",
   "execution_count": 32,
   "id": "d642c1a2-80d7-4f62-abd9-f861667751dc",
   "metadata": {},
   "outputs": [
    {
     "data": {
      "text/plain": [
       "array(['Age', 'Sex', 'BP', 'Cholesterol', 'Na_to_K'], dtype=object)"
      ]
     },
     "execution_count": 32,
     "metadata": {},
     "output_type": "execute_result"
    }
   ],
   "source": [
    "col_names = model.feature_names_in_\n",
    "col_names"
   ]
  },
  {
   "cell_type": "markdown",
   "id": "fb51cde6-877a-4ffc-ac3d-8e46d8d27175",
   "metadata": {},
   "source": [
    "## User Data"
   ]
  },
  {
   "cell_type": "code",
   "execution_count": 34,
   "id": "85bbd15d-bf06-4350-873e-3d6fa7e59779",
   "metadata": {},
   "outputs": [
    {
     "name": "stdout",
     "output_type": "stream",
     "text": [
      "predicted_Drug : DrugY\n"
     ]
    }
   ],
   "source": [
    "Age = 23\n",
    "Sex = 'F'\n",
    "BP = 'HIGH'\n",
    "Cholesterol = 'HIGH'\n",
    "Na_to_K = 25.35\n",
    "\n",
    "Sex = col_data['Sex'][Sex]\n",
    "BP = col_data['BP'][BP]\n",
    "Cholesterol = col_data['Cholesterol'][Cholesterol]\n",
    "\n",
    "test_array = np.zeros((1,model.n_features_in_))\n",
    "test_array[0,0] = Age\n",
    "test_array[0,1] = Sex\n",
    "test_array[0,2] = BP\n",
    "test_array[0,3] = Cholesterol\n",
    "test_array[0,4] = Na_to_K \n",
    "\n",
    "predicted_Drug = model.predict(test_array)[0]\n",
    "print(\"predicted_Drug :\",predicted_Drug)"
   ]
  }
 ],
 "metadata": {
  "kernelspec": {
   "display_name": "Python 3 (ipykernel)",
   "language": "python",
   "name": "python3"
  },
  "language_info": {
   "codemirror_mode": {
    "name": "ipython",
    "version": 3
   },
   "file_extension": ".py",
   "mimetype": "text/x-python",
   "name": "python",
   "nbconvert_exporter": "python",
   "pygments_lexer": "ipython3",
   "version": "3.11.5"
  }
 },
 "nbformat": 4,
 "nbformat_minor": 5
}
