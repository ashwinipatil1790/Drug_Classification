{
 "cells": [
  {
   "cell_type": "code",
   "execution_count": 46,
   "id": "96792e6d-0eb9-45d1-bf94-4c2393e4f724",
   "metadata": {},
   "outputs": [],
   "source": [
    "import numpy as np\n",
    "import pandas as pd\n",
    "\n",
    "\n",
    "from sklearn.model_selection import train_test_split\n",
    "\n",
    "from sklearn.linear_model import LogisticRegression\n",
    "from sklearn.metrics import accuracy_score, classification_report, roc_curve\n",
    "from sklearn.metrics import confusion_matrix, multilabel_confusion_matrix\n",
    "\n",
    "import matplotlib.pyplot as plt\n",
    "import seaborn as sns\n",
    "import plotly.express as px\n",
    "\n",
    "import warnings\n",
    "warnings.filterwarnings('ignore')"
   ]
  },
  {
   "cell_type": "markdown",
   "id": "fa86a5f5-b631-47f3-a0a4-9ac73d226a17",
   "metadata": {},
   "source": [
    "## 1.Problem Statement"
   ]
  },
  {
   "cell_type": "code",
   "execution_count": null,
   "id": "95be26e5-d756-454d-954e-94f6bc435630",
   "metadata": {},
   "outputs": [],
   "source": [
    "Since as a beginner in machine learning it would be a great opportunity to try \n",
    "some techniques to predict the outcome of the drugs that might be accurate for the patient."
   ]
  },
  {
   "cell_type": "markdown",
   "id": "4b8d46a7-9849-4fb7-b528-f367403229e8",
   "metadata": {},
   "source": [
    "## 2. Data Gathering"
   ]
  },
  {
   "cell_type": "code",
   "execution_count": 47,
   "id": "e382faab-558f-4602-ac08-9e6775ba5d67",
   "metadata": {},
   "outputs": [
    {
     "data": {
      "text/html": [
       "<div>\n",
       "<style scoped>\n",
       "    .dataframe tbody tr th:only-of-type {\n",
       "        vertical-align: middle;\n",
       "    }\n",
       "\n",
       "    .dataframe tbody tr th {\n",
       "        vertical-align: top;\n",
       "    }\n",
       "\n",
       "    .dataframe thead th {\n",
       "        text-align: right;\n",
       "    }\n",
       "</style>\n",
       "<table border=\"1\" class=\"dataframe\">\n",
       "  <thead>\n",
       "    <tr style=\"text-align: right;\">\n",
       "      <th></th>\n",
       "      <th>Age</th>\n",
       "      <th>Sex</th>\n",
       "      <th>BP</th>\n",
       "      <th>Cholesterol</th>\n",
       "      <th>Na_to_K</th>\n",
       "      <th>Drug</th>\n",
       "    </tr>\n",
       "  </thead>\n",
       "  <tbody>\n",
       "    <tr>\n",
       "      <th>0</th>\n",
       "      <td>23</td>\n",
       "      <td>F</td>\n",
       "      <td>HIGH</td>\n",
       "      <td>HIGH</td>\n",
       "      <td>25.355</td>\n",
       "      <td>DrugY</td>\n",
       "    </tr>\n",
       "    <tr>\n",
       "      <th>1</th>\n",
       "      <td>47</td>\n",
       "      <td>M</td>\n",
       "      <td>LOW</td>\n",
       "      <td>HIGH</td>\n",
       "      <td>13.093</td>\n",
       "      <td>drugC</td>\n",
       "    </tr>\n",
       "    <tr>\n",
       "      <th>2</th>\n",
       "      <td>47</td>\n",
       "      <td>M</td>\n",
       "      <td>LOW</td>\n",
       "      <td>HIGH</td>\n",
       "      <td>10.114</td>\n",
       "      <td>drugC</td>\n",
       "    </tr>\n",
       "    <tr>\n",
       "      <th>3</th>\n",
       "      <td>28</td>\n",
       "      <td>F</td>\n",
       "      <td>NORMAL</td>\n",
       "      <td>HIGH</td>\n",
       "      <td>7.798</td>\n",
       "      <td>drugX</td>\n",
       "    </tr>\n",
       "    <tr>\n",
       "      <th>4</th>\n",
       "      <td>61</td>\n",
       "      <td>F</td>\n",
       "      <td>LOW</td>\n",
       "      <td>HIGH</td>\n",
       "      <td>18.043</td>\n",
       "      <td>DrugY</td>\n",
       "    </tr>\n",
       "    <tr>\n",
       "      <th>...</th>\n",
       "      <td>...</td>\n",
       "      <td>...</td>\n",
       "      <td>...</td>\n",
       "      <td>...</td>\n",
       "      <td>...</td>\n",
       "      <td>...</td>\n",
       "    </tr>\n",
       "    <tr>\n",
       "      <th>195</th>\n",
       "      <td>56</td>\n",
       "      <td>F</td>\n",
       "      <td>LOW</td>\n",
       "      <td>HIGH</td>\n",
       "      <td>11.567</td>\n",
       "      <td>drugC</td>\n",
       "    </tr>\n",
       "    <tr>\n",
       "      <th>196</th>\n",
       "      <td>16</td>\n",
       "      <td>M</td>\n",
       "      <td>LOW</td>\n",
       "      <td>HIGH</td>\n",
       "      <td>12.006</td>\n",
       "      <td>drugC</td>\n",
       "    </tr>\n",
       "    <tr>\n",
       "      <th>197</th>\n",
       "      <td>52</td>\n",
       "      <td>M</td>\n",
       "      <td>NORMAL</td>\n",
       "      <td>HIGH</td>\n",
       "      <td>9.894</td>\n",
       "      <td>drugX</td>\n",
       "    </tr>\n",
       "    <tr>\n",
       "      <th>198</th>\n",
       "      <td>23</td>\n",
       "      <td>M</td>\n",
       "      <td>NORMAL</td>\n",
       "      <td>NORMAL</td>\n",
       "      <td>14.020</td>\n",
       "      <td>drugX</td>\n",
       "    </tr>\n",
       "    <tr>\n",
       "      <th>199</th>\n",
       "      <td>40</td>\n",
       "      <td>F</td>\n",
       "      <td>LOW</td>\n",
       "      <td>NORMAL</td>\n",
       "      <td>11.349</td>\n",
       "      <td>drugX</td>\n",
       "    </tr>\n",
       "  </tbody>\n",
       "</table>\n",
       "<p>200 rows × 6 columns</p>\n",
       "</div>"
      ],
      "text/plain": [
       "     Age Sex      BP Cholesterol  Na_to_K   Drug\n",
       "0     23   F    HIGH        HIGH   25.355  DrugY\n",
       "1     47   M     LOW        HIGH   13.093  drugC\n",
       "2     47   M     LOW        HIGH   10.114  drugC\n",
       "3     28   F  NORMAL        HIGH    7.798  drugX\n",
       "4     61   F     LOW        HIGH   18.043  DrugY\n",
       "..   ...  ..     ...         ...      ...    ...\n",
       "195   56   F     LOW        HIGH   11.567  drugC\n",
       "196   16   M     LOW        HIGH   12.006  drugC\n",
       "197   52   M  NORMAL        HIGH    9.894  drugX\n",
       "198   23   M  NORMAL      NORMAL   14.020  drugX\n",
       "199   40   F     LOW      NORMAL   11.349  drugX\n",
       "\n",
       "[200 rows x 6 columns]"
      ]
     },
     "execution_count": 47,
     "metadata": {},
     "output_type": "execute_result"
    }
   ],
   "source": [
    "df = pd.read_csv('drug200.csv')\n",
    "df"
   ]
  },
  {
   "cell_type": "markdown",
   "id": "8482cc44-f97b-4106-94ee-ac57686d975c",
   "metadata": {},
   "source": [
    "## 3.EDA"
   ]
  },
  {
   "cell_type": "code",
   "execution_count": 48,
   "id": "9600548c-dcbc-4dbc-b9a1-c03c0e8fc681",
   "metadata": {},
   "outputs": [
    {
     "data": {
      "text/plain": [
       "Age            0\n",
       "Sex            0\n",
       "BP             0\n",
       "Cholesterol    0\n",
       "Na_to_K        0\n",
       "Drug           0\n",
       "dtype: int64"
      ]
     },
     "execution_count": 48,
     "metadata": {},
     "output_type": "execute_result"
    }
   ],
   "source": [
    "df.isnull().sum()"
   ]
  },
  {
   "cell_type": "code",
   "execution_count": 49,
   "id": "60703d4b-8358-47e6-a844-5b6dac674f17",
   "metadata": {},
   "outputs": [
    {
     "name": "stdout",
     "output_type": "stream",
     "text": [
      "<class 'pandas.core.frame.DataFrame'>\n",
      "RangeIndex: 200 entries, 0 to 199\n",
      "Data columns (total 6 columns):\n",
      " #   Column       Non-Null Count  Dtype  \n",
      "---  ------       --------------  -----  \n",
      " 0   Age          200 non-null    int64  \n",
      " 1   Sex          200 non-null    object \n",
      " 2   BP           200 non-null    object \n",
      " 3   Cholesterol  200 non-null    object \n",
      " 4   Na_to_K      200 non-null    float64\n",
      " 5   Drug         200 non-null    object \n",
      "dtypes: float64(1), int64(1), object(4)\n",
      "memory usage: 9.5+ KB\n"
     ]
    }
   ],
   "source": [
    "df.info()"
   ]
  },
  {
   "cell_type": "code",
   "execution_count": 51,
   "id": "718befae-5fdd-461b-b0f9-6aa9a40611ed",
   "metadata": {},
   "outputs": [
    {
     "data": {
      "text/plain": [
       "<Axes: >"
      ]
     },
     "execution_count": 51,
     "metadata": {},
     "output_type": "execute_result"
    },
    {
     "data": {
      "image/png": "[encoded data removed]",
      "text/plain": [
       "<Figure size 640x480 with 1 Axes>"
      ]
     },
     "metadata": {},
     "output_type": "display_data"
    }
   ],
   "source": [
    "sns.boxplot(df)"
   ]
  },
  {
   "cell_type": "code",
   "execution_count": 52,
   "id": "6ce9c3ac-c8df-4b14-8b1d-4f8c745a5ef6",
   "metadata": {},
   "outputs": [
    {
     "data": {
      "text/plain": [
       "<Axes: ylabel='Na_to_K'>"
      ]
     },
     "execution_count": 52,
     "metadata": {},
     "output_type": "execute_result"
    },
    {
     "data": {
      "image/png": "[encoded data removed]",
      "text/plain": [
       "<Figure size 640x480 with 1 Axes>"
      ]
     },
     "metadata": {},
     "output_type": "display_data"
    }
   ],
   "source": [
    "sns.boxplot(df['Na_to_K'])"
   ]
  },
  {
   "cell_type": "markdown",
   "id": "35d54169-76ca-431c-afec-a40d519aa151",
   "metadata": {},
   "source": [
    "### Encoding"
   ]
  },
  {
   "cell_type": "code",
   "execution_count": 53,
   "id": "0efd19bc-fe59-44c6-9836-729d2a40c012",
   "metadata": {},
   "outputs": [
    {
     "data": {
      "text/plain": [
       "Sex\n",
       "M    104\n",
       "F     96\n",
       "Name: count, dtype: int64"
      ]
     },
     "execution_count": 53,
     "metadata": {},
     "output_type": "execute_result"
    }
   ],
   "source": [
    "df['Sex'].value_counts()"
   ]
  },
  {
   "cell_type": "code",
   "execution_count": 54,
   "id": "7fad21cf-8c4d-447b-859a-a442884431ff",
   "metadata": {},
   "outputs": [],
   "source": [
    "df['Sex'].replace({'M':1, 'F':0},inplace = True)"
   ]
  },
  {
   "cell_type": "code",
   "execution_count": 55,
   "id": "fdb89119-b476-4b20-a67e-c5684a67e218",
   "metadata": {},
   "outputs": [
    {
     "data": {
      "text/plain": [
       "BP\n",
       "HIGH      77\n",
       "LOW       64\n",
       "NORMAL    59\n",
       "Name: count, dtype: int64"
      ]
     },
     "execution_count": 55,
     "metadata": {},
     "output_type": "execute_result"
    }
   ],
   "source": [
    "df['BP'].value_counts()"
   ]
  },
  {
   "cell_type": "code",
   "execution_count": 56,
   "id": "074efa7f-0e53-49b1-96dc-406d55d81a98",
   "metadata": {},
   "outputs": [],
   "source": [
    "df['BP'].replace({'HIGH':2, 'LOW':1,'NORMAL':0},inplace = True)"
   ]
  },
  {
   "cell_type": "code",
   "execution_count": 57,
   "id": "8d12c38e-c61d-4e14-9940-c29cd4720047",
   "metadata": {},
   "outputs": [
    {
     "data": {
      "text/plain": [
       "Cholesterol\n",
       "HIGH      103\n",
       "NORMAL     97\n",
       "Name: count, dtype: int64"
      ]
     },
     "execution_count": 57,
     "metadata": {},
     "output_type": "execute_result"
    }
   ],
   "source": [
    "df['Cholesterol'].value_counts()"
   ]
  },
  {
   "cell_type": "code",
   "execution_count": 58,
   "id": "67024e53-d1f7-4e9c-9095-83d309bfd208",
   "metadata": {},
   "outputs": [],
   "source": [
    "df['Cholesterol'].replace({'HIGH':1,'NORMAL':0},inplace = True)"
   ]
  },
  {
   "cell_type": "code",
   "execution_count": 14,
   "id": "e83891d5-a273-425d-bedd-01420113e585",
   "metadata": {},
   "outputs": [
    {
     "data": {
      "text/plain": [
       "Drug\n",
       "DrugY    91\n",
       "drugX    54\n",
       "drugA    23\n",
       "drugC    16\n",
       "drugB    16\n",
       "Name: count, dtype: int64"
      ]
     },
     "execution_count": 14,
     "metadata": {},
     "output_type": "execute_result"
    }
   ],
   "source": [
    "#df['Drug'].value_counts()"
   ]
  },
  {
   "cell_type": "code",
   "execution_count": 15,
   "id": "469ddae8-b54a-4ef8-8b47-70a9a3d76b36",
   "metadata": {},
   "outputs": [],
   "source": [
    "#df['Drug'].replace({'drugA':0, 'drugB':1,'drugC':2,'drugX':3,'DrugY':4},inplace = True)"
   ]
  },
  {
   "cell_type": "code",
   "execution_count": 59,
   "id": "2be8ef7b-44fd-4aa5-8f6b-ef180f35b18a",
   "metadata": {},
   "outputs": [
    {
     "data": {
      "text/html": [
       "<div>\n",
       "<style scoped>\n",
       "    .dataframe tbody tr th:only-of-type {\n",
       "        vertical-align: middle;\n",
       "    }\n",
       "\n",
       "    .dataframe tbody tr th {\n",
       "        vertical-align: top;\n",
       "    }\n",
       "\n",
       "    .dataframe thead th {\n",
       "        text-align: right;\n",
       "    }\n",
       "</style>\n",
       "<table border=\"1\" class=\"dataframe\">\n",
       "  <thead>\n",
       "    <tr style=\"text-align: right;\">\n",
       "      <th></th>\n",
       "      <th>Age</th>\n",
       "      <th>Sex</th>\n",
       "      <th>BP</th>\n",
       "      <th>Cholesterol</th>\n",
       "      <th>Na_to_K</th>\n",
       "      <th>Drug</th>\n",
       "    </tr>\n",
       "  </thead>\n",
       "  <tbody>\n",
       "    <tr>\n",
       "      <th>0</th>\n",
       "      <td>23</td>\n",
       "      <td>0</td>\n",
       "      <td>2</td>\n",
       "      <td>1</td>\n",
       "      <td>25.355</td>\n",
       "      <td>DrugY</td>\n",
       "    </tr>\n",
       "    <tr>\n",
       "      <th>1</th>\n",
       "      <td>47</td>\n",
       "      <td>1</td>\n",
       "      <td>1</td>\n",
       "      <td>1</td>\n",
       "      <td>13.093</td>\n",
       "      <td>drugC</td>\n",
       "    </tr>\n",
       "    <tr>\n",
       "      <th>2</th>\n",
       "      <td>47</td>\n",
       "      <td>1</td>\n",
       "      <td>1</td>\n",
       "      <td>1</td>\n",
       "      <td>10.114</td>\n",
       "      <td>drugC</td>\n",
       "    </tr>\n",
       "    <tr>\n",
       "      <th>3</th>\n",
       "      <td>28</td>\n",
       "      <td>0</td>\n",
       "      <td>0</td>\n",
       "      <td>1</td>\n",
       "      <td>7.798</td>\n",
       "      <td>drugX</td>\n",
       "    </tr>\n",
       "    <tr>\n",
       "      <th>4</th>\n",
       "      <td>61</td>\n",
       "      <td>0</td>\n",
       "      <td>1</td>\n",
       "      <td>1</td>\n",
       "      <td>18.043</td>\n",
       "      <td>DrugY</td>\n",
       "    </tr>\n",
       "    <tr>\n",
       "      <th>...</th>\n",
       "      <td>...</td>\n",
       "      <td>...</td>\n",
       "      <td>...</td>\n",
       "      <td>...</td>\n",
       "      <td>...</td>\n",
       "      <td>...</td>\n",
       "    </tr>\n",
       "    <tr>\n",
       "      <th>195</th>\n",
       "      <td>56</td>\n",
       "      <td>0</td>\n",
       "      <td>1</td>\n",
       "      <td>1</td>\n",
       "      <td>11.567</td>\n",
       "      <td>drugC</td>\n",
       "    </tr>\n",
       "    <tr>\n",
       "      <th>196</th>\n",
       "      <td>16</td>\n",
       "      <td>1</td>\n",
       "      <td>1</td>\n",
       "      <td>1</td>\n",
       "      <td>12.006</td>\n",
       "      <td>drugC</td>\n",
       "    </tr>\n",
       "    <tr>\n",
       "      <th>197</th>\n",
       "      <td>52</td>\n",
       "      <td>1</td>\n",
       "      <td>0</td>\n",
       "      <td>1</td>\n",
       "      <td>9.894</td>\n",
       "      <td>drugX</td>\n",
       "    </tr>\n",
       "    <tr>\n",
       "      <th>198</th>\n",
       "      <td>23</td>\n",
       "      <td>1</td>\n",
       "      <td>0</td>\n",
       "      <td>0</td>\n",
       "      <td>14.020</td>\n",
       "      <td>drugX</td>\n",
       "    </tr>\n",
       "    <tr>\n",
       "      <th>199</th>\n",
       "      <td>40</td>\n",
       "      <td>0</td>\n",
       "      <td>1</td>\n",
       "      <td>0</td>\n",
       "      <td>11.349</td>\n",
       "      <td>drugX</td>\n",
       "    </tr>\n",
       "  </tbody>\n",
       "</table>\n",
       "<p>200 rows × 6 columns</p>\n",
       "</div>"
      ],
      "text/plain": [
       "     Age  Sex  BP  Cholesterol  Na_to_K   Drug\n",
       "0     23    0   2            1   25.355  DrugY\n",
       "1     47    1   1            1   13.093  drugC\n",
       "2     47    1   1            1   10.114  drugC\n",
       "3     28    0   0            1    7.798  drugX\n",
       "4     61    0   1            1   18.043  DrugY\n",
       "..   ...  ...  ..          ...      ...    ...\n",
       "195   56    0   1            1   11.567  drugC\n",
       "196   16    1   1            1   12.006  drugC\n",
       "197   52    1   0            1    9.894  drugX\n",
       "198   23    1   0            0   14.020  drugX\n",
       "199   40    0   1            0   11.349  drugX\n",
       "\n",
       "[200 rows x 6 columns]"
      ]
     },
     "execution_count": 59,
     "metadata": {},
     "output_type": "execute_result"
    }
   ],
   "source": [
    "df"
   ]
  },
  {
   "cell_type": "markdown",
   "id": "ba987bb4-d80d-4536-8de9-33ce4edc3663",
   "metadata": {},
   "source": [
    "### 4.Feature Engineering"
   ]
  },
  {
   "cell_type": "markdown",
   "id": "3924a931-c3c7-44b5-9ddc-12371a5966c9",
   "metadata": {},
   "source": [
    "### Outliers Handling"
   ]
  },
  {
   "cell_type": "code",
   "execution_count": 60,
   "id": "9d56618d-328c-4d16-8893-0afc241f2df4",
   "metadata": {},
   "outputs": [],
   "source": [
    "from scipy.stats import boxcox"
   ]
  },
  {
   "cell_type": "code",
   "execution_count": 61,
   "id": "7a96081f-ab42-432a-b51f-c15dd8d98dbd",
   "metadata": {},
   "outputs": [
    {
     "data": {
      "text/plain": [
       "array([1.92852561, 1.69061513, 1.58153756, 1.46114097, 1.81298153,\n",
       "       1.50814512, 1.77512928, 1.61955487, 1.74854669, 1.83820491,\n",
       "       1.64669991, 1.83511952, 1.75367706, 1.86529473, 1.67834587,\n",
       "       1.75712786, 1.63538487, 1.71654022, 1.42865435, 1.93620274,\n",
       "       1.83381231, 1.93550619, 1.9863634 , 1.74511665, 2.0132121 ,\n",
       "       1.82785702, 1.98437707, 1.54783449, 1.89242663, 1.81113748,\n",
       "       1.51583355, 1.55671617, 1.61866036, 1.99880924, 1.72105014,\n",
       "       1.42776977, 1.55091724, 1.71557882, 1.56334104, 1.53314706,\n",
       "       1.83552324, 1.72398164, 1.76376123, 1.66377577, 1.66495266,\n",
       "       1.47984164, 1.69055348, 1.58918343, 1.99704464, 1.84585851,\n",
       "       1.8390746 , 1.61411008, 1.95050687, 1.82112504, 1.58479927,\n",
       "       1.72179966, 1.63110858, 1.95776856, 1.58053074, 1.82584783,\n",
       "       1.97947349, 1.55235256, 1.86119593, 1.49501453, 1.69701877,\n",
       "       1.9489758 , 1.68321917, 1.61149177, 1.91957172, 1.91451783,\n",
       "       1.71639903, 1.84371762, 1.60231898, 1.89545387, 1.79278413,\n",
       "       1.86475531, 1.62574664, 1.8344207 , 1.69732029, 1.61181029,\n",
       "       1.7154655 , 1.45883456, 1.56347959, 1.63058398, 1.57947683,\n",
       "       1.71549383, 1.70575765, 1.75619539, 1.8981296 , 1.7958246 ,\n",
       "       1.78235956, 1.74816761, 1.97514019, 1.9732897 , 1.74457934,\n",
       "       1.63423787, 2.05084385, 1.92902934, 2.03107142, 1.78527449,\n",
       "       1.65038176, 1.68315598, 1.69166131, 1.5271301 , 1.96291267,\n",
       "       1.52723297, 1.65325413, 1.84965397, 1.5618596 , 1.78802726,\n",
       "       1.44147566, 1.38430546, 1.53746608, 1.71075256, 1.54296031,\n",
       "       1.81796815, 1.55420932, 1.58105643, 1.58922612, 1.9300336 ,\n",
       "       1.94913744, 1.79571811, 1.88887181, 1.78589352, 1.67159188,\n",
       "       1.93614173, 1.77677785, 1.46404948, 2.01369614, 1.44062164,\n",
       "       1.85778783, 2.00827523, 1.70578694, 1.93389747, 1.86682496,\n",
       "       1.65276561, 1.61721604, 1.68441739, 1.63122088, 1.57938885,\n",
       "       1.35121432, 1.9333423 , 1.50890544, 1.75516116, 1.56125587,\n",
       "       1.55082133, 1.65509651, 1.66535512, 1.43149772, 1.4824261 ,\n",
       "       1.51316473, 1.61846556, 1.42613107, 1.73486302, 1.78525235,\n",
       "       1.59951935, 1.62684913, 1.89629138, 1.59565061, 1.6853286 ,\n",
       "       1.59560876, 1.57406642, 1.68331394, 1.96655681, 1.83156933,\n",
       "       1.81796815, 1.94425008, 1.72334807, 1.89686731, 1.62817461,\n",
       "       1.68394498, 1.57727023, 1.79612252, 1.82653192, 1.68036209,\n",
       "       1.81900511, 1.5957343 , 1.83164379, 1.7680112 , 1.76616722,\n",
       "       1.89419221, 1.71404534, 1.64380168, 1.75649019, 2.04304165,\n",
       "       1.93521229, 1.56974552, 1.5939302 , 2.02590193, 1.86513139,\n",
       "       1.83127129, 1.47413638, 1.7759319 , 1.39083271, 2.02335135,\n",
       "       1.63949414, 1.65509651, 1.57177801, 1.71789212, 1.63144536])"
      ]
     },
     "execution_count": 61,
     "metadata": {},
     "output_type": "execute_result"
    }
   ],
   "source": [
    "array1 = boxcox(df['Na_to_K'])[0]\n",
    "array1"
   ]
  },
  {
   "cell_type": "code",
   "execution_count": 62,
   "id": "c70d803f-8257-48d4-8546-cc460e0bba28",
   "metadata": {},
   "outputs": [],
   "source": [
    "df['Na_to_K'] = array1"
   ]
  },
  {
   "cell_type": "code",
   "execution_count": 63,
   "id": "967ed6d7-fba5-42e0-a130-86325c8da457",
   "metadata": {},
   "outputs": [
    {
     "data": {
      "text/html": [
       "<div>\n",
       "<style scoped>\n",
       "    .dataframe tbody tr th:only-of-type {\n",
       "        vertical-align: middle;\n",
       "    }\n",
       "\n",
       "    .dataframe tbody tr th {\n",
       "        vertical-align: top;\n",
       "    }\n",
       "\n",
       "    .dataframe thead th {\n",
       "        text-align: right;\n",
       "    }\n",
       "</style>\n",
       "<table border=\"1\" class=\"dataframe\">\n",
       "  <thead>\n",
       "    <tr style=\"text-align: right;\">\n",
       "      <th></th>\n",
       "      <th>Age</th>\n",
       "      <th>Sex</th>\n",
       "      <th>BP</th>\n",
       "      <th>Cholesterol</th>\n",
       "      <th>Na_to_K</th>\n",
       "      <th>Drug</th>\n",
       "    </tr>\n",
       "  </thead>\n",
       "  <tbody>\n",
       "    <tr>\n",
       "      <th>0</th>\n",
       "      <td>23</td>\n",
       "      <td>0</td>\n",
       "      <td>2</td>\n",
       "      <td>1</td>\n",
       "      <td>1.928526</td>\n",
       "      <td>DrugY</td>\n",
       "    </tr>\n",
       "    <tr>\n",
       "      <th>1</th>\n",
       "      <td>47</td>\n",
       "      <td>1</td>\n",
       "      <td>1</td>\n",
       "      <td>1</td>\n",
       "      <td>1.690615</td>\n",
       "      <td>drugC</td>\n",
       "    </tr>\n",
       "    <tr>\n",
       "      <th>2</th>\n",
       "      <td>47</td>\n",
       "      <td>1</td>\n",
       "      <td>1</td>\n",
       "      <td>1</td>\n",
       "      <td>1.581538</td>\n",
       "      <td>drugC</td>\n",
       "    </tr>\n",
       "    <tr>\n",
       "      <th>3</th>\n",
       "      <td>28</td>\n",
       "      <td>0</td>\n",
       "      <td>0</td>\n",
       "      <td>1</td>\n",
       "      <td>1.461141</td>\n",
       "      <td>drugX</td>\n",
       "    </tr>\n",
       "    <tr>\n",
       "      <th>4</th>\n",
       "      <td>61</td>\n",
       "      <td>0</td>\n",
       "      <td>1</td>\n",
       "      <td>1</td>\n",
       "      <td>1.812982</td>\n",
       "      <td>DrugY</td>\n",
       "    </tr>\n",
       "    <tr>\n",
       "      <th>...</th>\n",
       "      <td>...</td>\n",
       "      <td>...</td>\n",
       "      <td>...</td>\n",
       "      <td>...</td>\n",
       "      <td>...</td>\n",
       "      <td>...</td>\n",
       "    </tr>\n",
       "    <tr>\n",
       "      <th>195</th>\n",
       "      <td>56</td>\n",
       "      <td>0</td>\n",
       "      <td>1</td>\n",
       "      <td>1</td>\n",
       "      <td>1.639494</td>\n",
       "      <td>drugC</td>\n",
       "    </tr>\n",
       "    <tr>\n",
       "      <th>196</th>\n",
       "      <td>16</td>\n",
       "      <td>1</td>\n",
       "      <td>1</td>\n",
       "      <td>1</td>\n",
       "      <td>1.655097</td>\n",
       "      <td>drugC</td>\n",
       "    </tr>\n",
       "    <tr>\n",
       "      <th>197</th>\n",
       "      <td>52</td>\n",
       "      <td>1</td>\n",
       "      <td>0</td>\n",
       "      <td>1</td>\n",
       "      <td>1.571778</td>\n",
       "      <td>drugX</td>\n",
       "    </tr>\n",
       "    <tr>\n",
       "      <th>198</th>\n",
       "      <td>23</td>\n",
       "      <td>1</td>\n",
       "      <td>0</td>\n",
       "      <td>0</td>\n",
       "      <td>1.717892</td>\n",
       "      <td>drugX</td>\n",
       "    </tr>\n",
       "    <tr>\n",
       "      <th>199</th>\n",
       "      <td>40</td>\n",
       "      <td>0</td>\n",
       "      <td>1</td>\n",
       "      <td>0</td>\n",
       "      <td>1.631445</td>\n",
       "      <td>drugX</td>\n",
       "    </tr>\n",
       "  </tbody>\n",
       "</table>\n",
       "<p>200 rows × 6 columns</p>\n",
       "</div>"
      ],
      "text/plain": [
       "     Age  Sex  BP  Cholesterol   Na_to_K   Drug\n",
       "0     23    0   2            1  1.928526  DrugY\n",
       "1     47    1   1            1  1.690615  drugC\n",
       "2     47    1   1            1  1.581538  drugC\n",
       "3     28    0   0            1  1.461141  drugX\n",
       "4     61    0   1            1  1.812982  DrugY\n",
       "..   ...  ...  ..          ...       ...    ...\n",
       "195   56    0   1            1  1.639494  drugC\n",
       "196   16    1   1            1  1.655097  drugC\n",
       "197   52    1   0            1  1.571778  drugX\n",
       "198   23    1   0            0  1.717892  drugX\n",
       "199   40    0   1            0  1.631445  drugX\n",
       "\n",
       "[200 rows x 6 columns]"
      ]
     },
     "execution_count": 63,
     "metadata": {},
     "output_type": "execute_result"
    }
   ],
   "source": [
    "df"
   ]
  },
  {
   "cell_type": "markdown",
   "id": "a23d4357-5dc8-44b6-b42a-0ef4569a00d6",
   "metadata": {},
   "source": [
    "### 5.Feature Selection/Extraction"
   ]
  },
  {
   "cell_type": "markdown",
   "id": "743cf1fc-6c38-4ff7-b652-a2fb1a9eb046",
   "metadata": {},
   "source": [
    "### 6.Model Training"
   ]
  },
  {
   "cell_type": "code",
   "execution_count": 64,
   "id": "fcf98282-57bb-4795-89dd-c7172301097c",
   "metadata": {},
   "outputs": [
    {
     "data": {
      "text/html": [
       "<div>\n",
       "<style scoped>\n",
       "    .dataframe tbody tr th:only-of-type {\n",
       "        vertical-align: middle;\n",
       "    }\n",
       "\n",
       "    .dataframe tbody tr th {\n",
       "        vertical-align: top;\n",
       "    }\n",
       "\n",
       "    .dataframe thead th {\n",
       "        text-align: right;\n",
       "    }\n",
       "</style>\n",
       "<table border=\"1\" class=\"dataframe\">\n",
       "  <thead>\n",
       "    <tr style=\"text-align: right;\">\n",
       "      <th></th>\n",
       "      <th>Age</th>\n",
       "      <th>Sex</th>\n",
       "      <th>BP</th>\n",
       "      <th>Cholesterol</th>\n",
       "      <th>Na_to_K</th>\n",
       "    </tr>\n",
       "  </thead>\n",
       "  <tbody>\n",
       "    <tr>\n",
       "      <th>0</th>\n",
       "      <td>23</td>\n",
       "      <td>0</td>\n",
       "      <td>2</td>\n",
       "      <td>1</td>\n",
       "      <td>1.928526</td>\n",
       "    </tr>\n",
       "    <tr>\n",
       "      <th>1</th>\n",
       "      <td>47</td>\n",
       "      <td>1</td>\n",
       "      <td>1</td>\n",
       "      <td>1</td>\n",
       "      <td>1.690615</td>\n",
       "    </tr>\n",
       "    <tr>\n",
       "      <th>2</th>\n",
       "      <td>47</td>\n",
       "      <td>1</td>\n",
       "      <td>1</td>\n",
       "      <td>1</td>\n",
       "      <td>1.581538</td>\n",
       "    </tr>\n",
       "    <tr>\n",
       "      <th>3</th>\n",
       "      <td>28</td>\n",
       "      <td>0</td>\n",
       "      <td>0</td>\n",
       "      <td>1</td>\n",
       "      <td>1.461141</td>\n",
       "    </tr>\n",
       "    <tr>\n",
       "      <th>4</th>\n",
       "      <td>61</td>\n",
       "      <td>0</td>\n",
       "      <td>1</td>\n",
       "      <td>1</td>\n",
       "      <td>1.812982</td>\n",
       "    </tr>\n",
       "    <tr>\n",
       "      <th>...</th>\n",
       "      <td>...</td>\n",
       "      <td>...</td>\n",
       "      <td>...</td>\n",
       "      <td>...</td>\n",
       "      <td>...</td>\n",
       "    </tr>\n",
       "    <tr>\n",
       "      <th>195</th>\n",
       "      <td>56</td>\n",
       "      <td>0</td>\n",
       "      <td>1</td>\n",
       "      <td>1</td>\n",
       "      <td>1.639494</td>\n",
       "    </tr>\n",
       "    <tr>\n",
       "      <th>196</th>\n",
       "      <td>16</td>\n",
       "      <td>1</td>\n",
       "      <td>1</td>\n",
       "      <td>1</td>\n",
       "      <td>1.655097</td>\n",
       "    </tr>\n",
       "    <tr>\n",
       "      <th>197</th>\n",
       "      <td>52</td>\n",
       "      <td>1</td>\n",
       "      <td>0</td>\n",
       "      <td>1</td>\n",
       "      <td>1.571778</td>\n",
       "    </tr>\n",
       "    <tr>\n",
       "      <th>198</th>\n",
       "      <td>23</td>\n",
       "      <td>1</td>\n",
       "      <td>0</td>\n",
       "      <td>0</td>\n",
       "      <td>1.717892</td>\n",
       "    </tr>\n",
       "    <tr>\n",
       "      <th>199</th>\n",
       "      <td>40</td>\n",
       "      <td>0</td>\n",
       "      <td>1</td>\n",
       "      <td>0</td>\n",
       "      <td>1.631445</td>\n",
       "    </tr>\n",
       "  </tbody>\n",
       "</table>\n",
       "<p>200 rows × 5 columns</p>\n",
       "</div>"
      ],
      "text/plain": [
       "     Age  Sex  BP  Cholesterol   Na_to_K\n",
       "0     23    0   2            1  1.928526\n",
       "1     47    1   1            1  1.690615\n",
       "2     47    1   1            1  1.581538\n",
       "3     28    0   0            1  1.461141\n",
       "4     61    0   1            1  1.812982\n",
       "..   ...  ...  ..          ...       ...\n",
       "195   56    0   1            1  1.639494\n",
       "196   16    1   1            1  1.655097\n",
       "197   52    1   0            1  1.571778\n",
       "198   23    1   0            0  1.717892\n",
       "199   40    0   1            0  1.631445\n",
       "\n",
       "[200 rows x 5 columns]"
      ]
     },
     "execution_count": 64,
     "metadata": {},
     "output_type": "execute_result"
    }
   ],
   "source": [
    "x = df.drop('Drug',axis = 1)\n",
    "y = df['Drug']\n",
    "x"
   ]
  },
  {
   "cell_type": "code",
   "execution_count": 65,
   "id": "575b9560-96c6-43ef-a96a-7bf0e6b04249",
   "metadata": {},
   "outputs": [
    {
     "data": {
      "text/plain": [
       "0      DrugY\n",
       "1      drugC\n",
       "2      drugC\n",
       "3      drugX\n",
       "4      DrugY\n",
       "       ...  \n",
       "195    drugC\n",
       "196    drugC\n",
       "197    drugX\n",
       "198    drugX\n",
       "199    drugX\n",
       "Name: Drug, Length: 200, dtype: object"
      ]
     },
     "execution_count": 65,
     "metadata": {},
     "output_type": "execute_result"
    }
   ],
   "source": [
    "y"
   ]
  },
  {
   "cell_type": "code",
   "execution_count": 66,
   "id": "badd0bda-29ab-4326-9620-d849b12a08dd",
   "metadata": {},
   "outputs": [
    {
     "data": {
      "text/html": [
       "<div>\n",
       "<style scoped>\n",
       "    .dataframe tbody tr th:only-of-type {\n",
       "        vertical-align: middle;\n",
       "    }\n",
       "\n",
       "    .dataframe tbody tr th {\n",
       "        vertical-align: top;\n",
       "    }\n",
       "\n",
       "    .dataframe thead th {\n",
       "        text-align: right;\n",
       "    }\n",
       "</style>\n",
       "<table border=\"1\" class=\"dataframe\">\n",
       "  <thead>\n",
       "    <tr style=\"text-align: right;\">\n",
       "      <th></th>\n",
       "      <th>Age</th>\n",
       "      <th>Sex</th>\n",
       "      <th>BP</th>\n",
       "      <th>Cholesterol</th>\n",
       "      <th>Na_to_K</th>\n",
       "    </tr>\n",
       "  </thead>\n",
       "  <tbody>\n",
       "    <tr>\n",
       "      <th>172</th>\n",
       "      <td>39</td>\n",
       "      <td>0</td>\n",
       "      <td>0</td>\n",
       "      <td>0</td>\n",
       "      <td>1.796123</td>\n",
       "    </tr>\n",
       "    <tr>\n",
       "      <th>163</th>\n",
       "      <td>21</td>\n",
       "      <td>0</td>\n",
       "      <td>2</td>\n",
       "      <td>0</td>\n",
       "      <td>1.966557</td>\n",
       "    </tr>\n",
       "    <tr>\n",
       "      <th>14</th>\n",
       "      <td>50</td>\n",
       "      <td>0</td>\n",
       "      <td>0</td>\n",
       "      <td>1</td>\n",
       "      <td>1.678346</td>\n",
       "    </tr>\n",
       "    <tr>\n",
       "      <th>58</th>\n",
       "      <td>60</td>\n",
       "      <td>1</td>\n",
       "      <td>0</td>\n",
       "      <td>0</td>\n",
       "      <td>1.580531</td>\n",
       "    </tr>\n",
       "    <tr>\n",
       "      <th>20</th>\n",
       "      <td>57</td>\n",
       "      <td>1</td>\n",
       "      <td>1</td>\n",
       "      <td>0</td>\n",
       "      <td>1.833812</td>\n",
       "    </tr>\n",
       "    <tr>\n",
       "      <th>...</th>\n",
       "      <td>...</td>\n",
       "      <td>...</td>\n",
       "      <td>...</td>\n",
       "      <td>...</td>\n",
       "      <td>...</td>\n",
       "    </tr>\n",
       "    <tr>\n",
       "      <th>71</th>\n",
       "      <td>28</td>\n",
       "      <td>0</td>\n",
       "      <td>0</td>\n",
       "      <td>1</td>\n",
       "      <td>1.843718</td>\n",
       "    </tr>\n",
       "    <tr>\n",
       "      <th>150</th>\n",
       "      <td>49</td>\n",
       "      <td>1</td>\n",
       "      <td>2</td>\n",
       "      <td>0</td>\n",
       "      <td>1.513165</td>\n",
       "    </tr>\n",
       "    <tr>\n",
       "      <th>12</th>\n",
       "      <td>43</td>\n",
       "      <td>1</td>\n",
       "      <td>1</td>\n",
       "      <td>1</td>\n",
       "      <td>1.753677</td>\n",
       "    </tr>\n",
       "    <tr>\n",
       "      <th>88</th>\n",
       "      <td>37</td>\n",
       "      <td>0</td>\n",
       "      <td>2</td>\n",
       "      <td>0</td>\n",
       "      <td>1.898130</td>\n",
       "    </tr>\n",
       "    <tr>\n",
       "      <th>107</th>\n",
       "      <td>42</td>\n",
       "      <td>1</td>\n",
       "      <td>1</td>\n",
       "      <td>1</td>\n",
       "      <td>1.849654</td>\n",
       "    </tr>\n",
       "  </tbody>\n",
       "</table>\n",
       "<p>160 rows × 5 columns</p>\n",
       "</div>"
      ],
      "text/plain": [
       "     Age  Sex  BP  Cholesterol   Na_to_K\n",
       "172   39    0   0            0  1.796123\n",
       "163   21    0   2            0  1.966557\n",
       "14    50    0   0            1  1.678346\n",
       "58    60    1   0            0  1.580531\n",
       "20    57    1   1            0  1.833812\n",
       "..   ...  ...  ..          ...       ...\n",
       "71    28    0   0            1  1.843718\n",
       "150   49    1   2            0  1.513165\n",
       "12    43    1   1            1  1.753677\n",
       "88    37    0   2            0  1.898130\n",
       "107   42    1   1            1  1.849654\n",
       "\n",
       "[160 rows x 5 columns]"
      ]
     },
     "execution_count": 66,
     "metadata": {},
     "output_type": "execute_result"
    }
   ],
   "source": [
    "x_train,x_test,y_train,y_test = train_test_split(x,y,test_size = 0.20,random_state = 14)\n",
    "x_train"
   ]
  },
  {
   "cell_type": "code",
   "execution_count": 67,
   "id": "6c778be7-127f-43cf-9c66-8744f08f2e89",
   "metadata": {},
   "outputs": [
    {
     "data": {
      "text/html": [
       "<style>#sk-container-id-2 {color: black;}#sk-container-id-2 pre{padding: 0;}#sk-container-id-2 div.sk-toggleable {background-color: white;}#sk-container-id-2 label.sk-toggleable__label {cursor: pointer;display: block;width: 100%;margin-bottom: 0;padding: 0.3em;box-sizing: border-box;text-align: center;}#sk-container-id-2 label.sk-toggleable__label-arrow:before {content: \"▸\";float: left;margin-right: 0.25em;color: #696969;}#sk-container-id-2 label.sk-toggleable__label-arrow:hover:before {color: black;}#sk-container-id-2 div.sk-estimator:hover label.sk-toggleable__label-arrow:before {color: black;}#sk-container-id-2 div.sk-toggleable__content {max-height: 0;max-width: 0;overflow: hidden;text-align: left;background-color: #f0f8ff;}#sk-container-id-2 div.sk-toggleable__content pre {margin: 0.2em;color: black;border-radius: 0.25em;background-color: #f0f8ff;}#sk-container-id-2 input.sk-toggleable__control:checked~div.sk-toggleable__content {max-height: 200px;max-width: 100%;overflow: auto;}#sk-container-id-2 input.sk-toggleable__control:checked~label.sk-toggleable__label-arrow:before {content: \"▾\";}#sk-container-id-2 div.sk-estimator input.sk-toggleable__control:checked~label.sk-toggleable__label {background-color: #d4ebff;}#sk-container-id-2 div.sk-label input.sk-toggleable__control:checked~label.sk-toggleable__label {background-color: #d4ebff;}#sk-container-id-2 input.sk-hidden--visually {border: 0;clip: rect(1px 1px 1px 1px);clip: rect(1px, 1px, 1px, 1px);height: 1px;margin: -1px;overflow: hidden;padding: 0;position: absolute;width: 1px;}#sk-container-id-2 div.sk-estimator {font-family: monospace;background-color: #f0f8ff;border: 1px dotted black;border-radius: 0.25em;box-sizing: border-box;margin-bottom: 0.5em;}#sk-container-id-2 div.sk-estimator:hover {background-color: #d4ebff;}#sk-container-id-2 div.sk-parallel-item::after {content: \"\";width: 100%;border-bottom: 1px solid gray;flex-grow: 1;}#sk-container-id-2 div.sk-label:hover label.sk-toggleable__label {background-color: #d4ebff;}#sk-container-id-2 div.sk-serial::before {content: \"\";position: absolute;border-left: 1px solid gray;box-sizing: border-box;top: 0;bottom: 0;left: 50%;z-index: 0;}#sk-container-id-2 div.sk-serial {display: flex;flex-direction: column;align-items: center;background-color: white;padding-right: 0.2em;padding-left: 0.2em;position: relative;}#sk-container-id-2 div.sk-item {position: relative;z-index: 1;}#sk-container-id-2 div.sk-parallel {display: flex;align-items: stretch;justify-content: center;background-color: white;position: relative;}#sk-container-id-2 div.sk-item::before, #sk-container-id-2 div.sk-parallel-item::before {content: \"\";position: absolute;border-left: 1px solid gray;box-sizing: border-box;top: 0;bottom: 0;left: 50%;z-index: -1;}#sk-container-id-2 div.sk-parallel-item {display: flex;flex-direction: column;z-index: 1;position: relative;background-color: white;}#sk-container-id-2 div.sk-parallel-item:first-child::after {align-self: flex-end;width: 50%;}#sk-container-id-2 div.sk-parallel-item:last-child::after {align-self: flex-start;width: 50%;}#sk-container-id-2 div.sk-parallel-item:only-child::after {width: 0;}#sk-container-id-2 div.sk-dashed-wrapped {border: 1px dashed gray;margin: 0 0.4em 0.5em 0.4em;box-sizing: border-box;padding-bottom: 0.4em;background-color: white;}#sk-container-id-2 div.sk-label label {font-family: monospace;font-weight: bold;display: inline-block;line-height: 1.2em;}#sk-container-id-2 div.sk-label-container {text-align: center;}#sk-container-id-2 div.sk-container {/* jupyter's `normalize.less` sets `[hidden] { display: none; }` but bootstrap.min.css set `[hidden] { display: none !important; }` so we also need the `!important` here to be able to override the default hidden behavior on the sphinx rendered scikit-learn.org. See: https://github.com/scikit-learn/scikit-learn/issues/21755 */display: inline-block !important;position: relative;}#sk-container-id-2 div.sk-text-repr-fallback {display: none;}</style><div id=\"sk-container-id-2\" class=\"sk-top-container\"><div class=\"sk-text-repr-fallback\"><pre>LogisticRegression(multi_class=&#x27;ovr&#x27;)</pre><b>In a Jupyter environment, please rerun this cell to show the HTML representation or trust the notebook. <br />On GitHub, the HTML representation is unable to render, please try loading this page with nbviewer.org.</b></div><div class=\"sk-container\" hidden><div class=\"sk-item\"><div class=\"sk-estimator sk-toggleable\"><input class=\"sk-toggleable__control sk-hidden--visually\" id=\"sk-estimator-id-2\" type=\"checkbox\" checked><label for=\"sk-estimator-id-2\" class=\"sk-toggleable__label sk-toggleable__label-arrow\">LogisticRegression</label><div class=\"sk-toggleable__content\"><pre>LogisticRegression(multi_class=&#x27;ovr&#x27;)</pre></div></div></div></div></div>"
      ],
      "text/plain": [
       "LogisticRegression(multi_class='ovr')"
      ]
     },
     "execution_count": 67,
     "metadata": {},
     "output_type": "execute_result"
    }
   ],
   "source": [
    "log_reg = LogisticRegression(multi_class = 'ovr')\n",
    "log_reg.fit(x_train, y_train)"
   ]
  },
  {
   "cell_type": "markdown",
   "id": "b17f4a96-4621-457a-99d9-3bf6f7cb48a1",
   "metadata": {},
   "source": [
    "## 7.Model Evaluation"
   ]
  },
  {
   "cell_type": "markdown",
   "id": "8a4c4d85-7049-4b05-8dc8-49d51a05e456",
   "metadata": {},
   "source": [
    "### Training Data Evaluation"
   ]
  },
  {
   "cell_type": "code",
   "execution_count": 68,
   "id": "686dda90-9eb0-495a-8467-af2be7da2f74",
   "metadata": {},
   "outputs": [
    {
     "name": "stdout",
     "output_type": "stream",
     "text": [
      "Multilabel Confusion Matrix:\n",
      " [[[ 60  27]\n",
      "  [  7  66]]\n",
      "\n",
      " [[139   0]\n",
      "  [  6  15]]\n",
      "\n",
      " [[148   1]\n",
      "  [  6   5]]\n",
      "\n",
      " [[149   0]\n",
      "  [ 11   0]]\n",
      "\n",
      " [[109   7]\n",
      "  [  5  39]]]\n",
      "******************************\n",
      "Confusion Matrix:\n",
      " [[66  0  1  0  6]\n",
      " [ 6 15  0  0  0]\n",
      " [ 6  0  5  0  0]\n",
      " [10  0  0  0  1]\n",
      " [ 5  0  0  0 39]]\n",
      "******************************\n",
      "Classification Report :\n",
      "               precision    recall  f1-score   support\n",
      "\n",
      "       DrugY       0.71      0.90      0.80        73\n",
      "       drugA       1.00      0.71      0.83        21\n",
      "       drugB       0.83      0.45      0.59        11\n",
      "       drugC       0.00      0.00      0.00        11\n",
      "       drugX       0.85      0.89      0.87        44\n",
      "\n",
      "    accuracy                           0.78       160\n",
      "   macro avg       0.68      0.59      0.62       160\n",
      "weighted avg       0.75      0.78      0.75       160\n",
      "\n"
     ]
    }
   ],
   "source": [
    "y_train_pred = log_reg.predict(x_train)\n",
    "\n",
    "multilabel_cnf_matrix = multilabel_confusion_matrix(y_train, y_train_pred)\n",
    "print(\"Multilabel Confusion Matrix:\\n\", multilabel_cnf_matrix)\n",
    "print(\"*\"*30)\n",
    "cnf_matrix = confusion_matrix(y_train, y_train_pred)\n",
    "print(\"Confusion Matrix:\\n\", cnf_matrix)\n",
    "print(\"*\"*30)\n",
    "\n",
    "clf_report = classification_report(y_train, y_train_pred)\n",
    "print(\"Classification Report :\\n\", clf_report)"
   ]
  },
  {
   "cell_type": "markdown",
   "id": "a39c8e8e-81d8-44cc-89da-281e7de79b3f",
   "metadata": {},
   "source": [
    "### Testing Data Evaluation"
   ]
  },
  {
   "cell_type": "code",
   "execution_count": 69,
   "id": "47417479-6652-490b-a481-22436338d140",
   "metadata": {},
   "outputs": [
    {
     "name": "stdout",
     "output_type": "stream",
     "text": [
      "Multilabel Confusion Matrix:\n",
      " [[[18  4]\n",
      "  [ 3 15]]\n",
      "\n",
      " [[38  0]\n",
      "  [ 0  2]]\n",
      "\n",
      " [[34  1]\n",
      "  [ 1  4]]\n",
      "\n",
      " [[35  0]\n",
      "  [ 5  0]]\n",
      "\n",
      " [[26  4]\n",
      "  [ 0 10]]]\n",
      "******************************\n",
      "Confusion Matrix:\n",
      " [[15  0  1  0  2]\n",
      " [ 0  2  0  0  0]\n",
      " [ 1  0  4  0  0]\n",
      " [ 3  0  0  0  2]\n",
      " [ 0  0  0  0 10]]\n",
      "******************************\n",
      "Classification Report :\n",
      "               precision    recall  f1-score   support\n",
      "\n",
      "       DrugY       0.79      0.83      0.81        18\n",
      "       drugA       1.00      1.00      1.00         2\n",
      "       drugB       0.80      0.80      0.80         5\n",
      "       drugC       0.00      0.00      0.00         5\n",
      "       drugX       0.71      1.00      0.83        10\n",
      "\n",
      "    accuracy                           0.78        40\n",
      "   macro avg       0.66      0.73      0.69        40\n",
      "weighted avg       0.68      0.78      0.72        40\n",
      "\n"
     ]
    }
   ],
   "source": [
    "y_pred = log_reg.predict(x_test)\n",
    "\n",
    "multilabel_cnf_matrix = multilabel_confusion_matrix(y_test, y_pred)\n",
    "print(\"Multilabel Confusion Matrix:\\n\", multilabel_cnf_matrix)\n",
    "print(\"*\"*30)\n",
    "cnf_matrix = confusion_matrix(y_test, y_pred)\n",
    "print(\"Confusion Matrix:\\n\", cnf_matrix)\n",
    "print(\"*\"*30)\n",
    "\n",
    "clf_report = classification_report(y_test, y_pred)\n",
    "print(\"Classification Report :\\n\", clf_report)"
   ]
  },
  {
   "cell_type": "code",
   "execution_count": 70,
   "id": "d3db7fe7-7575-4a0c-90a5-d8224a23f2f0",
   "metadata": {},
   "outputs": [
    {
     "data": {
      "text/html": [
       "<div>\n",
       "<style scoped>\n",
       "    .dataframe tbody tr th:only-of-type {\n",
       "        vertical-align: middle;\n",
       "    }\n",
       "\n",
       "    .dataframe tbody tr th {\n",
       "        vertical-align: top;\n",
       "    }\n",
       "\n",
       "    .dataframe thead th {\n",
       "        text-align: right;\n",
       "    }\n",
       "</style>\n",
       "<table border=\"1\" class=\"dataframe\">\n",
       "  <thead>\n",
       "    <tr style=\"text-align: right;\">\n",
       "      <th></th>\n",
       "      <th>Age</th>\n",
       "      <th>Sex</th>\n",
       "      <th>BP</th>\n",
       "      <th>Cholesterol</th>\n",
       "      <th>Na_to_K</th>\n",
       "    </tr>\n",
       "  </thead>\n",
       "  <tbody>\n",
       "    <tr>\n",
       "      <th>172</th>\n",
       "      <td>39</td>\n",
       "      <td>0</td>\n",
       "      <td>0</td>\n",
       "      <td>0</td>\n",
       "      <td>1.796123</td>\n",
       "    </tr>\n",
       "    <tr>\n",
       "      <th>163</th>\n",
       "      <td>21</td>\n",
       "      <td>0</td>\n",
       "      <td>2</td>\n",
       "      <td>0</td>\n",
       "      <td>1.966557</td>\n",
       "    </tr>\n",
       "    <tr>\n",
       "      <th>14</th>\n",
       "      <td>50</td>\n",
       "      <td>0</td>\n",
       "      <td>0</td>\n",
       "      <td>1</td>\n",
       "      <td>1.678346</td>\n",
       "    </tr>\n",
       "    <tr>\n",
       "      <th>58</th>\n",
       "      <td>60</td>\n",
       "      <td>1</td>\n",
       "      <td>0</td>\n",
       "      <td>0</td>\n",
       "      <td>1.580531</td>\n",
       "    </tr>\n",
       "    <tr>\n",
       "      <th>20</th>\n",
       "      <td>57</td>\n",
       "      <td>1</td>\n",
       "      <td>1</td>\n",
       "      <td>0</td>\n",
       "      <td>1.833812</td>\n",
       "    </tr>\n",
       "  </tbody>\n",
       "</table>\n",
       "</div>"
      ],
      "text/plain": [
       "     Age  Sex  BP  Cholesterol   Na_to_K\n",
       "172   39    0   0            0  1.796123\n",
       "163   21    0   2            0  1.966557\n",
       "14    50    0   0            1  1.678346\n",
       "58    60    1   0            0  1.580531\n",
       "20    57    1   1            0  1.833812"
      ]
     },
     "execution_count": 70,
     "metadata": {},
     "output_type": "execute_result"
    }
   ],
   "source": [
    "x_train.head()"
   ]
  },
  {
   "cell_type": "code",
   "execution_count": 71,
   "id": "035024e8-039c-4b7b-8486-9ff2cffed703",
   "metadata": {},
   "outputs": [
    {
     "data": {
      "text/plain": [
       "array([[0.65055135, 0.26953829, 0.00856153, 0.02200416, 0.04934465],\n",
       "       [0.16459894, 0.49411901, 0.17276037, 0.1341315 , 0.03439017],\n",
       "       [0.08559898, 0.00359317, 0.00210961, 0.03263298, 0.87606526],\n",
       "       [0.60400979, 0.04298839, 0.32882545, 0.00890799, 0.01526838],\n",
       "       [0.70844351, 0.25135148, 0.00508706, 0.01342147, 0.02169649]])"
      ]
     },
     "execution_count": 71,
     "metadata": {},
     "output_type": "execute_result"
    }
   ],
   "source": [
    "log_reg.predict_proba(x_train)[10:15]"
   ]
  },
  {
   "cell_type": "code",
   "execution_count": 72,
   "id": "94072650-fb43-4e3d-8acf-e536dd62f08e",
   "metadata": {},
   "outputs": [
    {
     "data": {
      "text/plain": [
       "array([1.55055516e-03, 2.34697839e-01, 3.07239943e-03, 1.72445832e-03,\n",
       "       1.39218874e-02, 2.06204566e-03, 1.13591632e-01, 4.04784284e-03,\n",
       "       3.99485363e-01, 9.78996164e-04, 2.69538294e-01, 4.94119012e-01,\n",
       "       3.59316886e-03, 4.29883897e-02, 2.51351481e-01, 1.72579728e-01,\n",
       "       4.75653453e-03, 1.26487904e-02, 1.12707205e-02, 4.19021802e-02,\n",
       "       1.92891680e-03, 5.28145715e-01, 2.10169927e-01, 3.05742123e-01,\n",
       "       4.93560798e-01, 9.87800699e-02, 7.49556103e-02, 1.03231134e-01,\n",
       "       7.37582007e-03, 2.18290173e-01, 8.54564100e-03, 1.38329095e-02,\n",
       "       2.64693646e-02, 3.87503282e-01, 5.12623804e-01, 4.33698514e-01,\n",
       "       2.74832446e-01, 1.52288790e-03, 5.17335722e-02, 1.29657168e-01,\n",
       "       3.81369276e-02, 1.02355321e-02, 5.32656839e-02, 7.38676473e-02,\n",
       "       1.86145041e-01, 6.59169078e-02, 2.18303605e-02, 2.04111100e-03,\n",
       "       1.05882468e-02, 1.19754862e-03, 2.66779323e-01, 3.55429567e-03,\n",
       "       3.27334720e-03, 4.33679575e-02, 2.73033272e-01, 2.46677710e-03,\n",
       "       3.10535798e-03, 1.76791725e-02, 6.45242668e-02, 2.84508622e-01,\n",
       "       2.59508568e-03, 5.95142443e-02, 5.21961158e-02, 1.78234771e-01,\n",
       "       5.97367003e-02, 2.08919049e-01, 3.39220513e-02, 1.02382796e-01,\n",
       "       3.61345404e-02, 4.59971628e-01, 3.57289640e-01, 1.36068423e-01,\n",
       "       9.80534558e-03, 3.15671065e-01, 2.36580371e-01, 2.73841116e-03,\n",
       "       3.91346764e-01, 2.63035668e-01, 1.73079355e-01, 1.06859360e-02,\n",
       "       4.19488239e-01, 4.18803659e-01, 1.42210113e-01, 1.21327573e-01,\n",
       "       2.31112128e-02, 4.91032751e-02, 2.35858770e-01, 7.93996255e-03,\n",
       "       5.27702349e-03, 5.26233390e-03, 4.30253101e-01, 5.73560575e-03,\n",
       "       9.18258353e-02, 3.45646379e-01, 2.18679304e-01, 5.54383385e-03,\n",
       "       1.18306288e-01, 1.05472322e-02, 9.61628485e-03, 1.81217662e-03,\n",
       "       1.41295756e-02, 7.87714818e-03, 2.90637108e-02, 5.02227180e-01,\n",
       "       5.49717646e-01, 2.58408212e-01, 3.19991921e-01, 6.63078733e-01,\n",
       "       3.12304303e-01, 6.11344403e-03, 1.29390936e-03, 6.82435413e-03,\n",
       "       5.16532386e-02, 8.30043052e-03, 5.50108158e-03, 4.43944461e-03,\n",
       "       4.48794083e-02, 2.42862447e-01, 2.96357056e-04, 4.18237118e-01,\n",
       "       8.49764874e-03, 1.24761782e-03, 2.87346014e-01, 2.72335873e-01,\n",
       "       4.33087920e-02, 1.69805344e-01, 7.25835399e-02, 1.39383666e-02,\n",
       "       2.13387434e-03, 2.48792553e-02, 3.94239737e-02, 1.28600467e-02,\n",
       "       3.72461031e-01, 4.04120610e-03, 1.97896633e-02, 1.96035293e-03,\n",
       "       9.44858541e-03, 1.10936406e-01, 3.36604968e-01, 5.27152928e-03,\n",
       "       4.21113709e-02, 6.45019101e-03, 7.40884331e-02, 3.18521158e-01,\n",
       "       4.89878688e-04, 1.73393031e-02, 1.91856304e-02, 3.74370470e-02,\n",
       "       2.74062552e-01, 3.69948192e-02, 9.92226965e-03, 5.64818441e-01,\n",
       "       2.53992994e-01, 4.57118523e-01, 1.04803558e-01, 4.76944333e-03,\n",
       "       3.52726399e-01, 6.79311214e-02, 1.75222807e-01, 5.10772102e-02])"
      ]
     },
     "execution_count": 72,
     "metadata": {},
     "output_type": "execute_result"
    }
   ],
   "source": [
    "y_train_prob = log_reg.predict_proba(x_train)[:,1]\n",
    "y_train_prob"
   ]
  },
  {
   "cell_type": "code",
   "execution_count": 73,
   "id": "c283c39b-c925-4ad5-8a69-aa856f8fff8b",
   "metadata": {},
   "outputs": [
    {
     "data": {
      "text/plain": [
       "array(['DrugY', 'drugA', 'drugX', 'DrugY', 'DrugY'], dtype=object)"
      ]
     },
     "execution_count": 73,
     "metadata": {},
     "output_type": "execute_result"
    }
   ],
   "source": [
    "log_reg.predict(x_train)[10:15]"
   ]
  },
  {
   "cell_type": "code",
   "execution_count": 74,
   "id": "001ddd08-4609-4d73-993b-3798dec307bd",
   "metadata": {},
   "outputs": [
    {
     "data": {
      "text/plain": [
       "array([[0.36944528, 0.00192892, 0.00409335, 0.11400578, 0.51052668],\n",
       "       [0.27285809, 0.52814572, 0.05116232, 0.12324206, 0.02459181],\n",
       "       [0.2209898 , 0.21016993, 0.44742536, 0.02216363, 0.09925129],\n",
       "       [0.59256508, 0.30574212, 0.01213992, 0.02504976, 0.06450311],\n",
       "       [0.37568827, 0.4935608 , 0.01386512, 0.10125501, 0.0156308 ]])"
      ]
     },
     "execution_count": 74,
     "metadata": {},
     "output_type": "execute_result"
    }
   ],
   "source": [
    "log_reg.predict_proba(x_train)[20:25]"
   ]
  },
  {
   "cell_type": "code",
   "execution_count": 75,
   "id": "0ab46cd3-1295-4fd1-8a5f-fcfe05112c40",
   "metadata": {},
   "outputs": [
    {
     "data": {
      "text/plain": [
       "array(['drugX', 'drugA', 'drugB', 'DrugY', 'drugA'], dtype=object)"
      ]
     },
     "execution_count": 75,
     "metadata": {},
     "output_type": "execute_result"
    }
   ],
   "source": [
    "log_reg.predict(x_train)[20:25]"
   ]
  },
  {
   "cell_type": "code",
   "execution_count": 76,
   "id": "7a7a2c3b-089d-4739-9b65-cbc0a9206d9b",
   "metadata": {},
   "outputs": [],
   "source": [
    "import pickle"
   ]
  },
  {
   "cell_type": "code",
   "execution_count": 77,
   "id": "0293df71-0b6b-467c-a878-9cc6455c479b",
   "metadata": {},
   "outputs": [],
   "source": [
    "import json"
   ]
  },
  {
   "cell_type": "code",
   "execution_count": 78,
   "id": "a0ca847c-47e4-4e47-b18e-e49505aa7124",
   "metadata": {},
   "outputs": [],
   "source": [
    "with open('Logistic_Reg_Drug.pkl','wb') as f:\n",
    "    pickle.dump(log_reg,f)"
   ]
  },
  {
   "cell_type": "code",
   "execution_count": 80,
   "id": "d3985a91-5345-4326-9aa7-bcd16c2a833d",
   "metadata": {},
   "outputs": [],
   "source": [
    "column_data = {\n",
    "                \"Sex\": {'M':1, 'F':0},\n",
    "                \"BP\" : {'HIGH':2, 'LOW':1,'NORMAL':0},\n",
    "                \"Cholesterol\": {'HIGH':1,'NORMAL':0}\n",
    "                }\n",
    "with open(\"column_data.json\", 'w') as f:\n",
    "    json.dump(column_data,f)"
   ]
  },
  {
   "cell_type": "code",
   "execution_count": null,
   "id": "d77efbea-d002-4825-bb7f-63cb9171fed9",
   "metadata": {},
   "outputs": [],
   "source": []
  }
 ],
 "metadata": {
  "kernelspec": {
   "display_name": "Python 3 (ipykernel)",
   "language": "python",
   "name": "python3"
  },
  "language_info": {
   "codemirror_mode": {
    "name": "ipython",
    "version": 3
   },
   "file_extension": ".py",
   "mimetype": "text/x-python",
   "name": "python",
   "nbconvert_exporter": "python",
   "pygments_lexer": "ipython3",
   "version": "3.11.5"
  }
 },
 "nbformat": 4,
 "nbformat_minor": 5
}
